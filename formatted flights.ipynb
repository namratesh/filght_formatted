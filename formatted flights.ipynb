{
 "cells": [
  {
   "cell_type": "code",
   "execution_count": 1,
   "metadata": {
    "ExecuteTime": {
     "end_time": "2019-03-13T16:35:15.195062Z",
     "start_time": "2019-03-13T16:35:14.023312Z"
    }
   },
   "outputs": [],
   "source": [
    "import numpy as np\n",
    "import pandas as pd\n",
    "import matplotlib.pyplot as plt\n",
    "import seaborn as sns"
   ]
  },
  {
   "cell_type": "code",
   "execution_count": 97,
   "metadata": {
    "ExecuteTime": {
     "end_time": "2019-03-13T17:45:00.165693Z",
     "start_time": "2019-03-13T17:44:59.749470Z"
    }
   },
   "outputs": [],
   "source": [
    "df = pd.read_csv(\"D:/data sets/data lit/w2 analyzing distribution/formatted flights.csv\", index_col=0)\n"
   ]
  },
  {
   "cell_type": "code",
   "execution_count": 98,
   "metadata": {
    "ExecuteTime": {
     "end_time": "2019-03-13T17:45:00.650247Z",
     "start_time": "2019-03-13T17:45:00.630245Z"
    }
   },
   "outputs": [
    {
     "data": {
      "text/html": [
       "<div>\n",
       "<style scoped>\n",
       "    .dataframe tbody tr th:only-of-type {\n",
       "        vertical-align: middle;\n",
       "    }\n",
       "\n",
       "    .dataframe tbody tr th {\n",
       "        vertical-align: top;\n",
       "    }\n",
       "\n",
       "    .dataframe thead th {\n",
       "        text-align: right;\n",
       "    }\n",
       "</style>\n",
       "<table border=\"1\" class=\"dataframe\">\n",
       "  <thead>\n",
       "    <tr style=\"text-align: right;\">\n",
       "      <th></th>\n",
       "      <th>arr_delay</th>\n",
       "      <th>name</th>\n",
       "    </tr>\n",
       "  </thead>\n",
       "  <tbody>\n",
       "    <tr>\n",
       "      <th>0</th>\n",
       "      <td>11.0</td>\n",
       "      <td>United Air Lines Inc.</td>\n",
       "    </tr>\n",
       "    <tr>\n",
       "      <th>1</th>\n",
       "      <td>20.0</td>\n",
       "      <td>United Air Lines Inc.</td>\n",
       "    </tr>\n",
       "    <tr>\n",
       "      <th>2</th>\n",
       "      <td>33.0</td>\n",
       "      <td>American Airlines Inc.</td>\n",
       "    </tr>\n",
       "    <tr>\n",
       "      <th>3</th>\n",
       "      <td>-18.0</td>\n",
       "      <td>JetBlue Airways</td>\n",
       "    </tr>\n",
       "    <tr>\n",
       "      <th>4</th>\n",
       "      <td>-25.0</td>\n",
       "      <td>Delta Air Lines Inc.</td>\n",
       "    </tr>\n",
       "  </tbody>\n",
       "</table>\n",
       "</div>"
      ],
      "text/plain": [
       "   arr_delay                    name\n",
       "0       11.0   United Air Lines Inc.\n",
       "1       20.0   United Air Lines Inc.\n",
       "2       33.0  American Airlines Inc.\n",
       "3      -18.0         JetBlue Airways\n",
       "4      -25.0    Delta Air Lines Inc."
      ]
     },
     "execution_count": 98,
     "metadata": {},
     "output_type": "execute_result"
    }
   ],
   "source": [
    "df.head()"
   ]
  },
  {
   "cell_type": "code",
   "execution_count": 99,
   "metadata": {
    "ExecuteTime": {
     "end_time": "2019-03-13T17:45:13.348754Z",
     "start_time": "2019-03-13T17:45:13.324760Z"
    }
   },
   "outputs": [
    {
     "name": "stdout",
     "output_type": "stream",
     "text": [
      "<class 'pandas.core.frame.DataFrame'>\n",
      "Int64Index: 67521 entries, 0 to 69683\n",
      "Data columns (total 2 columns):\n",
      "arr_delay    67521 non-null float64\n",
      "name         67521 non-null object\n",
      "dtypes: float64(1), object(1)\n",
      "memory usage: 1.5+ MB\n"
     ]
    }
   ],
   "source": [
    "df.info()"
   ]
  },
  {
   "cell_type": "code",
   "execution_count": 100,
   "metadata": {
    "ExecuteTime": {
     "end_time": "2019-03-13T17:45:13.764866Z",
     "start_time": "2019-03-13T17:45:13.728872Z"
    }
   },
   "outputs": [
    {
     "data": {
      "text/html": [
       "<div>\n",
       "<style scoped>\n",
       "    .dataframe tbody tr th:only-of-type {\n",
       "        vertical-align: middle;\n",
       "    }\n",
       "\n",
       "    .dataframe tbody tr th {\n",
       "        vertical-align: top;\n",
       "    }\n",
       "\n",
       "    .dataframe thead th {\n",
       "        text-align: right;\n",
       "    }\n",
       "</style>\n",
       "<table border=\"1\" class=\"dataframe\">\n",
       "  <thead>\n",
       "    <tr style=\"text-align: right;\">\n",
       "      <th></th>\n",
       "      <th>arr_delay</th>\n",
       "    </tr>\n",
       "  </thead>\n",
       "  <tbody>\n",
       "    <tr>\n",
       "      <th>count</th>\n",
       "      <td>67521.000000</td>\n",
       "    </tr>\n",
       "    <tr>\n",
       "      <th>mean</th>\n",
       "      <td>-0.760578</td>\n",
       "    </tr>\n",
       "    <tr>\n",
       "      <th>std</th>\n",
       "      <td>25.345653</td>\n",
       "    </tr>\n",
       "    <tr>\n",
       "      <th>min</th>\n",
       "      <td>-60.000000</td>\n",
       "    </tr>\n",
       "    <tr>\n",
       "      <th>25%</th>\n",
       "      <td>-17.000000</td>\n",
       "    </tr>\n",
       "    <tr>\n",
       "      <th>50%</th>\n",
       "      <td>-6.000000</td>\n",
       "    </tr>\n",
       "    <tr>\n",
       "      <th>75%</th>\n",
       "      <td>8.000000</td>\n",
       "    </tr>\n",
       "    <tr>\n",
       "      <th>max</th>\n",
       "      <td>120.000000</td>\n",
       "    </tr>\n",
       "  </tbody>\n",
       "</table>\n",
       "</div>"
      ],
      "text/plain": [
       "          arr_delay\n",
       "count  67521.000000\n",
       "mean      -0.760578\n",
       "std       25.345653\n",
       "min      -60.000000\n",
       "25%      -17.000000\n",
       "50%       -6.000000\n",
       "75%        8.000000\n",
       "max      120.000000"
      ]
     },
     "execution_count": 100,
     "metadata": {},
     "output_type": "execute_result"
    }
   ],
   "source": [
    "df.describe()"
   ]
  },
  {
   "cell_type": "code",
   "execution_count": 101,
   "metadata": {
    "ExecuteTime": {
     "end_time": "2019-03-13T17:45:17.024595Z",
     "start_time": "2019-03-13T17:45:16.671230Z"
    }
   },
   "outputs": [
    {
     "data": {
      "text/plain": [
       "Text(0, 0.5, 'Flights')"
      ]
     },
     "execution_count": 101,
     "metadata": {},
     "output_type": "execute_result"
    },
    {
     "data": {
      "image/png": "[encoded data removed]",
      "text/plain": [
       "<Figure size 432x288 with 1 Axes>"
      ]
     },
     "metadata": {
      "needs_background": "light"
     },
     "output_type": "display_data"
    }
   ],
   "source": [
    "plt.hist(df['arr_delay'], color = 'blue', bins = int(180/5))\n",
    "\n",
    "\n",
    "#plt.show()\n",
    "plt.title('Histogram of Arrival Delays')\n",
    "plt.xlabel('Delay (min)')\n",
    "plt.ylabel('Flights')\n"
   ]
  },
  {
   "cell_type": "code",
   "execution_count": 103,
   "metadata": {
    "ExecuteTime": {
     "end_time": "2019-03-13T17:46:01.131895Z",
     "start_time": "2019-03-13T17:46:00.792905Z"
    }
   },
   "outputs": [
    {
     "data": {
      "text/plain": [
       "Text(0, 0.5, 'Flights')"
      ]
     },
     "execution_count": 103,
     "metadata": {},
     "output_type": "execute_result"
    },
    {
     "data": {
      "image/png": "[encoded data removed]",
      "text/plain": [
       "<Figure size 432x288 with 1 Axes>"
      ]
     },
     "metadata": {
      "needs_background": "light"
     },
     "output_type": "display_data"
    }
   ],
   "source": [
    "#same plot\n",
    "sns.distplot(df['arr_delay'], hist = True, kde = False,\n",
    "            bins = int(180/5), color = 'red', hist_kws= {'edgecolor':'black'})\n",
    "plt.title('Histogram of Arrival Delays')\n",
    "plt.xlabel('Delay (min)')\n",
    "plt.ylabel('Flights')"
   ]
  },
  {
   "cell_type": "code",
   "execution_count": 109,
   "metadata": {
    "ExecuteTime": {
     "end_time": "2019-03-13T17:49:14.011980Z",
     "start_time": "2019-03-13T17:49:12.810160Z"
    }
   },
   "outputs": [
    {
     "data": {
      "image/png": "[encoded data removed]",
      "text/plain": [
       "<Figure size 432x288 with 4 Axes>"
      ]
     },
     "metadata": {
      "needs_background": "light"
     },
     "output_type": "display_data"
    }
   ],
   "source": [
    "for i, binwidth in enumerate([1,5,10,15]):\n",
    "    ax = plt.subplot(2,2,i+1)\n",
    "    \n",
    "    ax.hist(df['arr_delay'], bins = int(180/binwidth), color = 'blue', edgecolor = 'black')\n",
    "   "
   ]
  },
  {
   "cell_type": "code",
   "execution_count": 9,
   "metadata": {
    "ExecuteTime": {
     "end_time": "2019-03-13T16:35:21.462998Z",
     "start_time": "2019-03-13T16:35:21.175769Z"
    }
   },
   "outputs": [
    {
     "name": "stderr",
     "output_type": "stream",
     "text": [
      "C:\\Users\\Namratesh\\Anaconda3\\lib\\site-packages\\scipy\\stats\\stats.py:1713: FutureWarning: Using a non-tuple sequence for multidimensional indexing is deprecated; use `arr[tuple(seq)]` instead of `arr[seq]`. In the future this will be interpreted as an array index, `arr[np.array(seq)]`, which will result either in an error or a different result.\n",
      "  return np.add.reduce(sorted[indexer] * weights, axis=axis) / sumval\n"
     ]
    },
    {
     "data": {
      "text/plain": [
       "<matplotlib.axes._subplots.AxesSubplot at 0x23032088f28>"
      ]
     },
     "execution_count": 9,
     "metadata": {},
     "output_type": "execute_result"
    },
    {
     "data": {
      "image/png": "[encoded data removed]",
      "text/plain": [
       "<Figure size 432x288 with 1 Axes>"
      ]
     },
     "metadata": {
      "needs_background": "light"
     },
     "output_type": "display_data"
    }
   ],
   "source": [
    "sns.distplot(df['arr_delay'], hist = True, kde = True, bins = int(180/8), color = 'darkblue', hist_kws = {'edgecolor': 'black'},kde_kws = {'linewidth':2})"
   ]
  },
  {
   "cell_type": "code",
   "execution_count": 10,
   "metadata": {
    "ExecuteTime": {
     "end_time": "2019-03-13T16:35:45.740442Z",
     "start_time": "2019-03-13T16:35:45.716437Z"
    }
   },
   "outputs": [
    {
     "data": {
      "text/plain": [
       "United Air Lines Inc.          11963\n",
       "JetBlue Airways                10683\n",
       "ExpressJet Airlines Inc.       10595\n",
       "Delta Air Lines Inc.            9607\n",
       "American Airlines Inc.          6649\n",
       "Envoy Air                       5338\n",
       "US Airways Inc.                 4211\n",
       "Endeavor Air Inc.               3822\n",
       "Southwest Airlines Co.          2540\n",
       "Virgin America                   987\n",
       "AirTran Airways Corporation      648\n",
       "Alaska Airlines Inc.             147\n",
       "Frontier Airlines Inc.           142\n",
       "Mesa Airlines Inc.               122\n",
       "Hawaiian Airlines Inc.            63\n",
       "SkyWest Airlines Inc.              3\n",
       "JetBlu                             1\n",
       "Name: name, dtype: int64"
      ]
     },
     "execution_count": 10,
     "metadata": {},
     "output_type": "execute_result"
    }
   ],
   "source": [
    "df['name'].value_counts()"
   ]
  },
  {
   "cell_type": "code",
   "execution_count": 110,
   "metadata": {
    "ExecuteTime": {
     "end_time": "2019-03-13T17:49:42.019048Z",
     "start_time": "2019-03-13T17:49:41.912395Z"
    }
   },
   "outputs": [],
   "source": [
    "df_group = df.groupby(['name'])\n",
    "df_groupby = df_group['arr_delay'].describe() "
   ]
  },
  {
   "cell_type": "code",
   "execution_count": 111,
   "metadata": {
    "ExecuteTime": {
     "end_time": "2019-03-13T17:49:42.451202Z",
     "start_time": "2019-03-13T17:49:42.427207Z"
    }
   },
   "outputs": [
    {
     "name": "stdout",
     "output_type": "stream",
     "text": [
      "<class 'pandas.core.frame.DataFrame'>\n",
      "Index: 17 entries, United Air Lines Inc. to JetBlu\n",
      "Data columns (total 8 columns):\n",
      "count    17 non-null float64\n",
      "mean     17 non-null float64\n",
      "std      16 non-null float64\n",
      "min      17 non-null float64\n",
      "25%      17 non-null float64\n",
      "50%      17 non-null float64\n",
      "75%      17 non-null float64\n",
      "max      17 non-null float64\n",
      "dtypes: float64(8)\n",
      "memory usage: 1.2+ KB\n"
     ]
    }
   ],
   "source": [
    "final_sorted_df = df_groupby.sort_values('count' ,ascending =  0)\n",
    "final_sorted_df.info()"
   ]
  },
  {
   "cell_type": "code",
   "execution_count": 112,
   "metadata": {
    "ExecuteTime": {
     "end_time": "2019-03-13T17:49:42.868387Z",
     "start_time": "2019-03-13T17:49:42.844397Z"
    }
   },
   "outputs": [
    {
     "data": {
      "text/html": [
       "<div>\n",
       "<style scoped>\n",
       "    .dataframe tbody tr th:only-of-type {\n",
       "        vertical-align: middle;\n",
       "    }\n",
       "\n",
       "    .dataframe tbody tr th {\n",
       "        vertical-align: top;\n",
       "    }\n",
       "\n",
       "    .dataframe thead th {\n",
       "        text-align: right;\n",
       "    }\n",
       "</style>\n",
       "<table border=\"1\" class=\"dataframe\">\n",
       "  <thead>\n",
       "    <tr style=\"text-align: right;\">\n",
       "      <th></th>\n",
       "      <th>count</th>\n",
       "      <th>mean</th>\n",
       "      <th>std</th>\n",
       "      <th>min</th>\n",
       "      <th>25%</th>\n",
       "      <th>50%</th>\n",
       "      <th>75%</th>\n",
       "      <th>max</th>\n",
       "    </tr>\n",
       "    <tr>\n",
       "      <th>name</th>\n",
       "      <th></th>\n",
       "      <th></th>\n",
       "      <th></th>\n",
       "      <th></th>\n",
       "      <th></th>\n",
       "      <th></th>\n",
       "      <th></th>\n",
       "      <th></th>\n",
       "    </tr>\n",
       "  </thead>\n",
       "  <tbody>\n",
       "    <tr>\n",
       "      <th>United Air Lines Inc.</th>\n",
       "      <td>11963.0</td>\n",
       "      <td>-1.973585</td>\n",
       "      <td>23.995314</td>\n",
       "      <td>-59.0</td>\n",
       "      <td>-17.0</td>\n",
       "      <td>-6.0</td>\n",
       "      <td>7.00</td>\n",
       "      <td>120.0</td>\n",
       "    </tr>\n",
       "    <tr>\n",
       "      <th>JetBlue Airways</th>\n",
       "      <td>10683.0</td>\n",
       "      <td>-1.783394</td>\n",
       "      <td>23.686764</td>\n",
       "      <td>-60.0</td>\n",
       "      <td>-16.0</td>\n",
       "      <td>-7.0</td>\n",
       "      <td>6.00</td>\n",
       "      <td>120.0</td>\n",
       "    </tr>\n",
       "    <tr>\n",
       "      <th>ExpressJet Airlines Inc.</th>\n",
       "      <td>10595.0</td>\n",
       "      <td>7.506843</td>\n",
       "      <td>30.404373</td>\n",
       "      <td>-58.0</td>\n",
       "      <td>-13.0</td>\n",
       "      <td>-2.0</td>\n",
       "      <td>18.00</td>\n",
       "      <td>120.0</td>\n",
       "    </tr>\n",
       "    <tr>\n",
       "      <th>Delta Air Lines Inc.</th>\n",
       "      <td>9607.0</td>\n",
       "      <td>-7.004476</td>\n",
       "      <td>21.885343</td>\n",
       "      <td>-60.0</td>\n",
       "      <td>-20.0</td>\n",
       "      <td>-10.0</td>\n",
       "      <td>2.00</td>\n",
       "      <td>120.0</td>\n",
       "    </tr>\n",
       "    <tr>\n",
       "      <th>American Airlines Inc.</th>\n",
       "      <td>6649.0</td>\n",
       "      <td>-3.400812</td>\n",
       "      <td>23.936799</td>\n",
       "      <td>-59.0</td>\n",
       "      <td>-19.0</td>\n",
       "      <td>-8.0</td>\n",
       "      <td>6.00</td>\n",
       "      <td>119.0</td>\n",
       "    </tr>\n",
       "    <tr>\n",
       "      <th>Envoy Air</th>\n",
       "      <td>5338.0</td>\n",
       "      <td>3.864556</td>\n",
       "      <td>24.776577</td>\n",
       "      <td>-47.0</td>\n",
       "      <td>-12.0</td>\n",
       "      <td>-2.0</td>\n",
       "      <td>12.00</td>\n",
       "      <td>120.0</td>\n",
       "    </tr>\n",
       "    <tr>\n",
       "      <th>US Airways Inc.</th>\n",
       "      <td>4211.0</td>\n",
       "      <td>-2.649489</td>\n",
       "      <td>20.151461</td>\n",
       "      <td>-60.0</td>\n",
       "      <td>-15.0</td>\n",
       "      <td>-7.0</td>\n",
       "      <td>5.00</td>\n",
       "      <td>119.0</td>\n",
       "    </tr>\n",
       "    <tr>\n",
       "      <th>Endeavor Air Inc.</th>\n",
       "      <td>3822.0</td>\n",
       "      <td>-1.936944</td>\n",
       "      <td>28.338542</td>\n",
       "      <td>-60.0</td>\n",
       "      <td>-20.0</td>\n",
       "      <td>-8.0</td>\n",
       "      <td>7.00</td>\n",
       "      <td>120.0</td>\n",
       "    </tr>\n",
       "    <tr>\n",
       "      <th>Southwest Airlines Co.</th>\n",
       "      <td>2540.0</td>\n",
       "      <td>1.645276</td>\n",
       "      <td>23.939067</td>\n",
       "      <td>-58.0</td>\n",
       "      <td>-14.0</td>\n",
       "      <td>-2.0</td>\n",
       "      <td>11.00</td>\n",
       "      <td>120.0</td>\n",
       "    </tr>\n",
       "    <tr>\n",
       "      <th>Virgin America</th>\n",
       "      <td>987.0</td>\n",
       "      <td>-9.726444</td>\n",
       "      <td>21.855884</td>\n",
       "      <td>-55.0</td>\n",
       "      <td>-24.0</td>\n",
       "      <td>-13.0</td>\n",
       "      <td>0.00</td>\n",
       "      <td>107.0</td>\n",
       "    </tr>\n",
       "    <tr>\n",
       "      <th>AirTran Airways Corporation</th>\n",
       "      <td>648.0</td>\n",
       "      <td>7.629630</td>\n",
       "      <td>25.195591</td>\n",
       "      <td>-44.0</td>\n",
       "      <td>-8.0</td>\n",
       "      <td>3.0</td>\n",
       "      <td>17.00</td>\n",
       "      <td>115.0</td>\n",
       "    </tr>\n",
       "    <tr>\n",
       "      <th>Alaska Airlines Inc.</th>\n",
       "      <td>147.0</td>\n",
       "      <td>-9.557823</td>\n",
       "      <td>30.910195</td>\n",
       "      <td>-60.0</td>\n",
       "      <td>-31.0</td>\n",
       "      <td>-15.0</td>\n",
       "      <td>2.00</td>\n",
       "      <td>103.0</td>\n",
       "    </tr>\n",
       "    <tr>\n",
       "      <th>Frontier Airlines Inc.</th>\n",
       "      <td>142.0</td>\n",
       "      <td>11.338028</td>\n",
       "      <td>25.394166</td>\n",
       "      <td>-31.0</td>\n",
       "      <td>-6.0</td>\n",
       "      <td>7.0</td>\n",
       "      <td>23.75</td>\n",
       "      <td>104.0</td>\n",
       "    </tr>\n",
       "    <tr>\n",
       "      <th>Mesa Airlines Inc.</th>\n",
       "      <td>122.0</td>\n",
       "      <td>3.188525</td>\n",
       "      <td>32.293164</td>\n",
       "      <td>-46.0</td>\n",
       "      <td>-17.0</td>\n",
       "      <td>-7.5</td>\n",
       "      <td>11.75</td>\n",
       "      <td>108.0</td>\n",
       "    </tr>\n",
       "    <tr>\n",
       "      <th>Hawaiian Airlines Inc.</th>\n",
       "      <td>63.0</td>\n",
       "      <td>-9.952381</td>\n",
       "      <td>26.380851</td>\n",
       "      <td>-55.0</td>\n",
       "      <td>-26.0</td>\n",
       "      <td>-14.0</td>\n",
       "      <td>-0.50</td>\n",
       "      <td>82.0</td>\n",
       "    </tr>\n",
       "    <tr>\n",
       "      <th>SkyWest Airlines Inc.</th>\n",
       "      <td>3.0</td>\n",
       "      <td>43.000000</td>\n",
       "      <td>57.688820</td>\n",
       "      <td>-5.0</td>\n",
       "      <td>11.0</td>\n",
       "      <td>27.0</td>\n",
       "      <td>67.00</td>\n",
       "      <td>107.0</td>\n",
       "    </tr>\n",
       "    <tr>\n",
       "      <th>JetBlu</th>\n",
       "      <td>1.0</td>\n",
       "      <td>-12.000000</td>\n",
       "      <td>NaN</td>\n",
       "      <td>-12.0</td>\n",
       "      <td>-12.0</td>\n",
       "      <td>-12.0</td>\n",
       "      <td>-12.00</td>\n",
       "      <td>-12.0</td>\n",
       "    </tr>\n",
       "  </tbody>\n",
       "</table>\n",
       "</div>"
      ],
      "text/plain": [
       "                               count       mean        std   min   25%   50%  \\\n",
       "name                                                                           \n",
       "United Air Lines Inc.        11963.0  -1.973585  23.995314 -59.0 -17.0  -6.0   \n",
       "JetBlue Airways              10683.0  -1.783394  23.686764 -60.0 -16.0  -7.0   \n",
       "ExpressJet Airlines Inc.     10595.0   7.506843  30.404373 -58.0 -13.0  -2.0   \n",
       "Delta Air Lines Inc.          9607.0  -7.004476  21.885343 -60.0 -20.0 -10.0   \n",
       "American Airlines Inc.        6649.0  -3.400812  23.936799 -59.0 -19.0  -8.0   \n",
       "Envoy Air                     5338.0   3.864556  24.776577 -47.0 -12.0  -2.0   \n",
       "US Airways Inc.               4211.0  -2.649489  20.151461 -60.0 -15.0  -7.0   \n",
       "Endeavor Air Inc.             3822.0  -1.936944  28.338542 -60.0 -20.0  -8.0   \n",
       "Southwest Airlines Co.        2540.0   1.645276  23.939067 -58.0 -14.0  -2.0   \n",
       "Virgin America                 987.0  -9.726444  21.855884 -55.0 -24.0 -13.0   \n",
       "AirTran Airways Corporation    648.0   7.629630  25.195591 -44.0  -8.0   3.0   \n",
       "Alaska Airlines Inc.           147.0  -9.557823  30.910195 -60.0 -31.0 -15.0   \n",
       "Frontier Airlines Inc.         142.0  11.338028  25.394166 -31.0  -6.0   7.0   \n",
       "Mesa Airlines Inc.             122.0   3.188525  32.293164 -46.0 -17.0  -7.5   \n",
       "Hawaiian Airlines Inc.          63.0  -9.952381  26.380851 -55.0 -26.0 -14.0   \n",
       "SkyWest Airlines Inc.            3.0  43.000000  57.688820  -5.0  11.0  27.0   \n",
       "JetBlu                           1.0 -12.000000        NaN -12.0 -12.0 -12.0   \n",
       "\n",
       "                               75%    max  \n",
       "name                                       \n",
       "United Air Lines Inc.         7.00  120.0  \n",
       "JetBlue Airways               6.00  120.0  \n",
       "ExpressJet Airlines Inc.     18.00  120.0  \n",
       "Delta Air Lines Inc.          2.00  120.0  \n",
       "American Airlines Inc.        6.00  119.0  \n",
       "Envoy Air                    12.00  120.0  \n",
       "US Airways Inc.               5.00  119.0  \n",
       "Endeavor Air Inc.             7.00  120.0  \n",
       "Southwest Airlines Co.       11.00  120.0  \n",
       "Virgin America                0.00  107.0  \n",
       "AirTran Airways Corporation  17.00  115.0  \n",
       "Alaska Airlines Inc.          2.00  103.0  \n",
       "Frontier Airlines Inc.       23.75  104.0  \n",
       "Mesa Airlines Inc.           11.75  108.0  \n",
       "Hawaiian Airlines Inc.       -0.50   82.0  \n",
       "SkyWest Airlines Inc.        67.00  107.0  \n",
       "JetBlu                      -12.00  -12.0  "
      ]
     },
     "execution_count": 112,
     "metadata": {},
     "output_type": "execute_result"
    }
   ],
   "source": [
    "final_sorted_df"
   ]
  },
  {
   "cell_type": "code",
   "execution_count": 124,
   "metadata": {
    "ExecuteTime": {
     "end_time": "2019-03-13T17:58:54.282218Z",
     "start_time": "2019-03-13T17:58:54.233812Z"
    }
   },
   "outputs": [
    {
     "data": {
      "text/plain": [
       "JetBlu                         1.000000\n",
       "Hawaiian Airlines Inc.         0.761905\n",
       "Virgin America                 0.756839\n",
       "Delta Air Lines Inc.           0.728115\n",
       "Alaska Airlines Inc.           0.714286\n",
       "US Airways Inc.                0.668725\n",
       "American Airlines Inc.         0.668070\n",
       "JetBlue Airways                0.659553\n",
       "Endeavor Air Inc.              0.657771\n",
       "United Air Lines Inc.          0.638887\n",
       "Mesa Airlines Inc.             0.606557\n",
       "Southwest Airlines Co.         0.567323\n",
       "Envoy Air                      0.555826\n",
       "ExpressJet Airlines Inc.       0.539217\n",
       "AirTran Airways Corporation    0.445988\n",
       "Frontier Airlines Inc.         0.387324\n",
       "SkyWest Airlines Inc.          0.333333\n",
       "Name: name, dtype: float64"
      ]
     },
     "execution_count": 124,
     "metadata": {},
     "output_type": "execute_result"
    }
   ],
   "source": [
    "on_time = df.loc[df['arr_delay']<=0]\n",
    "early = on_time['name'].value_counts()\n",
    "total_arrivals = df['name'].value_counts()\n",
    "prob_time = (early/total_arrivals).sort_values(ascending= False)\n",
    "prob_time\n"
   ]
  },
  {
   "cell_type": "code",
   "execution_count": null,
   "metadata": {},
   "outputs": [],
   "source": [
    "so jet, hawaiin, Virign, Delta, Alska"
   ]
  }
 ],
 "metadata": {
  "kernelspec": {
   "display_name": "Python 3",
   "language": "python",
   "name": "python3"
  },
  "language_info": {
   "codemirror_mode": {
    "name": "ipython",
    "version": 3
   },
   "file_extension": ".py",
   "mimetype": "text/x-python",
   "name": "python",
   "nbconvert_exporter": "python",
   "pygments_lexer": "ipython3",
   "version": "3.7.1"
  },
  "varInspector": {
   "cols": {
    "lenName": 16,
    "lenType": 16,
    "lenVar": 40
   },
   "kernels_config": {
    "python": {
     "delete_cmd_postfix": "",
     "delete_cmd_prefix": "del ",
     "library": "var_list.py",
     "varRefreshCmd": "print(var_dic_list())"
    },
    "r": {
     "delete_cmd_postfix": ") ",
     "delete_cmd_prefix": "rm(",
     "library": "var_list.r",
     "varRefreshCmd": "cat(var_dic_list()) "
    }
   },
   "types_to_exclude": [
    "module",
    "function",
    "builtin_function_or_method",
    "instance",
    "_Feature"
   ],
   "window_display": false
  }
 },
 "nbformat": 4,
 "nbformat_minor": 2
}
